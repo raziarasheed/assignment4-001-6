{
  "nbformat": 4,
  "nbformat_minor": 0,
  "metadata": {
    "colab": {
      "provenance": [],
      "authorship_tag": "ABX9TyN6/qBSuf493mRG+968kgVN",
      "include_colab_link": true
    },
    "kernelspec": {
      "name": "python3",
      "display_name": "Python 3"
    },
    "language_info": {
      "name": "python"
    }
  },
  "cells": [
    {
      "cell_type": "markdown",
      "metadata": {
        "id": "view-in-github",
        "colab_type": "text"
      },
      "source": [
        "<a href=\"https://colab.research.google.com/github/raziarasheed/assignment4-001-6/blob/main/00_intro_python.ipynb\" target=\"_parent\"><img src=\"https://colab.research.google.com/assets/colab-badge.svg\" alt=\"Open In Colab\"/></a>"
      ]
    },
    {
      "cell_type": "code",
      "execution_count": 6,
      "metadata": {
        "colab": {
          "base_uri": "https://localhost:8080/"
        },
        "id": "N3foKMzEm9kx",
        "outputId": "4e78cba5-f33e-491f-faf0-bdced94fdee8"
      },
      "outputs": [
        {
          "output_type": "stream",
          "name": "stdout",
          "text": [
            "01_add_two_numbers\n",
            "This application for add two numbers\n",
            "Enter your first number5\n",
            "Enter your second number7\n",
            "The total sum of 5 and 7 is 12\n"
          ]
        }
      ],
      "source": [
        "print(\"01_add_two_numbers\")\n",
        "\n",
        "def add():\n",
        "  print(\"This application for add two numbers\")\n",
        "  first_number = int(input(\"Enter your first number\"))\n",
        "  second_number = int(input(\"Enter your second number\"))\n",
        "  total = int(first_number+ second_number)\n",
        "  print(f'The total sum of {first_number} and {second_number} is {total}')\n",
        "\n",
        "if __name__ == '__main__':\n",
        "    add()"
      ]
    },
    {
      "cell_type": "code",
      "source": [
        "print(\"02_agreement_bot\")\n",
        "\n",
        "def bot():\n",
        "  animal = str(input(\"what is your favourite animal\"))\n",
        "  print(f\"My favourite animal is {animal}\")\n",
        "\n",
        "if __name__ == '__main__':\n",
        "    bot()"
      ],
      "metadata": {
        "colab": {
          "base_uri": "https://localhost:8080/"
        },
        "id": "IRLoMBvdtf2U",
        "outputId": "b3c3d8b8-a7e6-4883-caf3-b9ae03248c3d"
      },
      "execution_count": 1,
      "outputs": [
        {
          "output_type": "stream",
          "name": "stdout",
          "text": [
            "02_agreement_bot\n",
            "what is your favourite animalcat\n",
            "My favourite animal is cat\n"
          ]
        }
      ]
    },
    {
      "cell_type": "code",
      "source": [
        "print(\"03_fahrenheit_to_celsius\")\n",
        "\n",
        "def temp():\n",
        "  print(\"This code is for converting fahrenheit to celcius\")\n",
        "  fahrenheit_degree = float(input(\"Enter your fahrenheit degree \"))\n",
        "  celsius_degree = (fahrenheit_degree - 32) * 5.0/9.0\n",
        "  print(\"Fahrenheit degree:\", fahrenheit_degree)\n",
        "  print(\"Celsius degree:\", celsius_degree )\n",
        "if __name__ == '__main__':\n",
        "  temp()\n"
      ],
      "metadata": {
        "colab": {
          "base_uri": "https://localhost:8080/"
        },
        "id": "oWn6JsPa5YIM",
        "outputId": "c93a4e70-2911-4868-d4ad-ab0aa8aea4cc"
      },
      "execution_count": 4,
      "outputs": [
        {
          "output_type": "stream",
          "name": "stdout",
          "text": [
            "03_fahrenheit_to_celsius\n",
            "This code is for converting fahrenheit to celcius\n",
            "Enter your fahrenheit degree 9\n",
            "Fahrenheit degree: 9.0\n",
            "Celsius degree: -12.777777777777779\n"
          ]
        }
      ]
    },
    {
      "cell_type": "code",
      "source": [
        "\n",
        "print(\"04_how_old_are_they\")\n",
        "\n",
        "def add_ages():\n",
        "  anthon:int = 21\n",
        "  beth:int = anthon + 6\n",
        "  chen:int = beth + 20\n",
        "  drew:int = chen + anthon\n",
        "  ethan:int = chen\n",
        "\n",
        "  print(\"Anthon is \" + str(anthon))\n",
        "  print(\"Beth is \" + str(beth))\n",
        "  print(\"Chen is \" + str(chen))\n",
        "  print(\"Drew is \" + str(drew))\n",
        "  print(\"Ethan is \" + str(ethan))\n",
        "\n",
        "if __name__ == '__main__':\n",
        "  add_ages()\n"
      ],
      "metadata": {
        "colab": {
          "base_uri": "https://localhost:8080/"
        },
        "id": "3f3Xm3DR_TuF",
        "outputId": "48b3a24d-8b5b-4003-85f1-2d68548e8af2"
      },
      "execution_count": 5,
      "outputs": [
        {
          "output_type": "stream",
          "name": "stdout",
          "text": [
            "04_how_old_are_they\n",
            "Anthon is 21\n",
            "Beth is 27\n",
            "Chen is 47\n",
            "Drew is 68\n",
            "Ethan is 47\n"
          ]
        }
      ]
    },
    {
      "cell_type": "code",
      "source": [
        "print(\"05_triangle_perimeter.\")\n",
        "\n",
        "def triangle():\n",
        "  print(\"This code is for sum the perimeter of a triangle. \")\n",
        "  side1:float = float(input(\"Enter the first side of the triangle. \"))\n",
        "  side2:float = float(input(\"Enter the second side of the triangle. \"))\n",
        "  side3:float = float(input(\"Enter the third side of the triangle. \"))\n",
        "  total:float =float(side1 + side2 + side3)\n",
        "  print(\"The perimeter of the  triangle {side1}, {side2} and {side3} is \" + str(total))\n",
        "if __name__ == '__main__':\n",
        "  triangle()"
      ],
      "metadata": {
        "colab": {
          "base_uri": "https://localhost:8080/"
        },
        "id": "-kgJ8Fb_F_97",
        "outputId": "a51c7524-7473-42ee-8856-0a8a0743e19e"
      },
      "execution_count": 1,
      "outputs": [
        {
          "output_type": "stream",
          "name": "stdout",
          "text": [
            "05_triangle_perimeter.\n",
            "This code is for sum the perimeter of a triangle. \n",
            "Enter the first side of the triangle. 6.9\n",
            "Enter the second side of the triangle. 4\n",
            "Enter the third side of the triangle. 8\n",
            "The perimeter of the {side1}, {side2} and {side3} is 18.9\n"
          ]
        }
      ]
    },
    {
      "cell_type": "code",
      "source": [
        "print(\"06_square_number\")\n",
        "\n",
        "def square():\n",
        "  print(\"This code is about square of given number\")\n",
        "  num1:int = int(input(\"Enter any number and i will give you a square value. \"))\n",
        "  print(f'The square of {num1} is {num1*num1}')\n",
        "if __name__ == '__main__':\n",
        "  square()"
      ],
      "metadata": {
        "colab": {
          "base_uri": "https://localhost:8080/"
        },
        "id": "BZtGA-MEH21I",
        "outputId": "44efea5b-855f-43e2-b38e-b98c10be855f"
      },
      "execution_count": 2,
      "outputs": [
        {
          "output_type": "stream",
          "name": "stdout",
          "text": [
            "06_square_number\n",
            "This code is about square of given number\n",
            "Enter any number and i will give you a square value. 4\n",
            "The square of 4 is 16\n"
          ]
        }
      ]
    }
  ]
}