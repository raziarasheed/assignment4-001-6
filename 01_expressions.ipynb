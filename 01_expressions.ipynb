{
  "nbformat": 4,
  "nbformat_minor": 0,
  "metadata": {
    "colab": {
      "provenance": [],
      "authorship_tag": "ABX9TyPVACb5gUk6U9D4dOkBrzjF",
      "include_colab_link": true
    },
    "kernelspec": {
      "name": "python3",
      "display_name": "Python 3"
    },
    "language_info": {
      "name": "python"
    }
  },
  "cells": [
    {
      "cell_type": "markdown",
      "metadata": {
        "id": "view-in-github",
        "colab_type": "text"
      },
      "source": [
        "<a href=\"https://colab.research.google.com/github/raziarasheed/assignment4-001-6/blob/main/01_expressions.ipynb\" target=\"_parent\"><img src=\"https://colab.research.google.com/assets/colab-badge.svg\" alt=\"Open In Colab\"/></a>"
      ]
    },
    {
      "cell_type": "code",
      "execution_count": 1,
      "metadata": {
        "colab": {
          "base_uri": "https://localhost:8080/"
        },
        "id": "_K0t0LuofIYC",
        "outputId": "a46841e2-37b1-4c16-dad0-fbd5ceef4281"
      },
      "outputs": [
        {
          "output_type": "stream",
          "name": "stdout",
          "text": [
            "01_dicesimulator\n",
            "die1 in main() start as :10\n",
            "Dice 1: 4\n",
            "Dice 2: 1\n",
            "Total: 5\n",
            "Dice 1: 6\n",
            "Dice 2: 5\n",
            "Total: 11\n",
            "Dice 1: 1\n",
            "Dice 2: 5\n",
            "Total: 6\n",
            "die1 in main() end as :10\n"
          ]
        }
      ],
      "source": [
        "import random\n",
        "print(\"01_dicesimulator\")\n",
        "\n",
        "def roll_dice():\n",
        "    dice1:int = random.randint(1, 6)\n",
        "    dice2:int = random.randint(1, 6)\n",
        "    total:int = dice1 + dice2\n",
        "    print(f\"Dice 1: {dice1}\")\n",
        "    print(f\"Dice 2: {dice2}\")\n",
        "    print(f\"Total: {total}\")\n",
        "\n",
        "def main():\n",
        "  die1:int = 10\n",
        "  print(\"die1 in main() start as :\" + str(die1))\n",
        "  roll_dice()\n",
        "  roll_dice()\n",
        "  roll_dice()\n",
        "  print(\"die1 in main() end as :\" + str(die1))\n",
        "\n",
        "if __name__ == \"__main__\":\n",
        "  main()"
      ]
    },
    {
      "cell_type": "code",
      "source": [
        "print(\"02_e=mc2\")\n",
        "\n",
        "def energy():\n",
        "  c:int = 299792458\n",
        "  m:int = float(input(\"Enter kilos of mass: \"))\n",
        "  print(\" e = m*c^2\")\n",
        "  print(\"Mass = \" + str(m) + \"kg\")\n",
        "  print(\"C = \" +str (c )+ \"m/s\")\n",
        "print(\"02_e=mc2\")\n",
        "\n",
        "def energy():\n",
        "  c:int = 299792458\n",
        "  m:int = float(input(\"Enter kilos of mass: \"))\n",
        "  print(\" e = m*c^2\")\n",
        "  print(\"Mass = \" + str(m) + \"kg\")\n",
        "  print(\"C = \" +str (c )+ \"m/s\")\n",
        "  print(\"e = \" +str(m *c**2)+ \"jules\" )\n",
        "if __name__ == \"__main__\":\n",
        "  energy()"
      ],
      "metadata": {
        "colab": {
          "base_uri": "https://localhost:8080/"
        },
        "id": "1dU59Eo7_4BP",
        "outputId": "70cebf6e-b7ac-43d7-f00e-7d13e8775f42"
      },
      "execution_count": 2,
      "outputs": [
        {
          "output_type": "stream",
          "name": "stdout",
          "text": [
            "02_e=mc2\n",
            "02_e=mc2\n",
            "Enter kilos of mass: 14\n",
            " e = m*c^2\n",
            "Mass = 14.0kg\n",
            "C = 299792458m/s\n",
            "e = 1.2582572502315446e+18jules\n"
          ]
        }
      ]
    },
    {
      "cell_type": "code",
      "source": [
        "print(\"03_feet_to_inches\")\n",
        "\n",
        "inch: int = 12\n",
        "\n",
        "def foot():\n",
        "  feet:int = int(input(\"Enter the value in feet and i will convert it into inches. \"))\n",
        "  print(f'There are {inch * feet} inches in {feet} feet.')\n",
        "if __name__ == \"__main__\":\n",
        "  foot()"
      ],
      "metadata": {
        "colab": {
          "base_uri": "https://localhost:8080/"
        },
        "id": "5rWfdx04QqMi",
        "outputId": "38546291-1f9e-49d9-ad68-ebd2be3c5eba"
      },
      "execution_count": 5,
      "outputs": [
        {
          "output_type": "stream",
          "name": "stdout",
          "text": [
            "03_feet_to_inches\n",
            "Enter the value in feet and i will convert it into inches. 45\n",
            "There are 540 inches in 45 feet.\n"
          ]
        }
      ]
    },
    {
      "cell_type": "code",
      "source": [
        "import math\n",
        "\n",
        "print(\"04_pythagorean_theorem\")\n",
        "\n",
        "\n",
        "def triangle():\n",
        "  ab:float = float(input(\"Enter the length of the side ab \" ))\n",
        "  ac:float = float(input(\"Enter the length of the side ac \" ))\n",
        "  bc:float =math.sqrt (ab**2 + ac**2)\n",
        "  print(f'The length of the side bc (the hypothenuse is {bc})')\n",
        "\n",
        "if __name__ == \"__main__\":\n",
        "  triangle()\n"
      ],
      "metadata": {
        "colab": {
          "base_uri": "https://localhost:8080/"
        },
        "id": "nSPKF_xnStl1",
        "outputId": "a64586e6-be28-4328-b7b0-c69ca0faa34a"
      },
      "execution_count": 6,
      "outputs": [
        {
          "output_type": "stream",
          "name": "stdout",
          "text": [
            "04_pythagorean_theorem\n",
            "Enter the length of the side ab45\n",
            "Enter the length of the side ac56\n",
            "The length of the side bc (the hypothenuse is 71.84010022264724)\n"
          ]
        }
      ]
    },
    {
      "cell_type": "code",
      "source": [
        "print(\"05_reminder_division\")\n",
        "\n",
        "def reminder():\n",
        "  num1:int = int(input(\"Enter a number to be divided: \" ))\n",
        "  num2:int = int(input(\"Enter a number to divide by: \"))\n",
        "  quotient:int = num1 // num2\n",
        "  reminder:int = num1 % num2\n",
        "  print(f'{num1} divided by {num2} is {quotient} with a remainder of {num1 % num2}')\n",
        "  return num1 % num2\n",
        "if __name__ == \"__main__\":\n",
        "  reminder()"
      ],
      "metadata": {
        "colab": {
          "base_uri": "https://localhost:8080/"
        },
        "id": "CthoCGjIVwzu",
        "outputId": "c1a5c106-aba7-4080-dd2a-8dcc1c920cf1"
      },
      "execution_count": 8,
      "outputs": [
        {
          "output_type": "stream",
          "name": "stdout",
          "text": [
            "05_reminder_division\n",
            "Enter a number to be divided: 45\n",
            "Enter a number to divide by: 2\n",
            "45 divided by 2 is 22 with a remainder of 1\n"
          ]
        }
      ]
    },
    {
      "cell_type": "code",
      "source": [
        "import random\n",
        "\n",
        "print(\"06_rolldice\")\n",
        "\n",
        "def roll_dice():\n",
        "  die1:int = random.randint(1, 6)\n",
        "  die2:int = random.randint(1, 6)\n",
        "  total:int = int(die1 +die2)\n",
        "  print(f'Die 1: {die1}')\n",
        "  print(f'Die 2: {die2}')\n",
        "  print(f'Total: {total}')\n",
        "  return total\n",
        "if __name__ == \"__main__\":\n",
        "  roll_dice()\n",
        "\n",
        "\n",
        "\n"
      ],
      "metadata": {
        "colab": {
          "base_uri": "https://localhost:8080/"
        },
        "id": "MJqhM5OR-yd0",
        "outputId": "5d619f96-5947-47e3-9790-b0d433750ce0"
      },
      "execution_count": 3,
      "outputs": [
        {
          "output_type": "stream",
          "name": "stdout",
          "text": [
            "06_rolldice\n",
            "Die 1: 6\n",
            "Die 2: 5\n",
            "Total: 11\n"
          ]
        }
      ]
    },
    {
      "cell_type": "code",
      "source": [
        "print(\"06_seconds_in_year\")\n",
        "\n",
        "days_in_year:int = 365\n",
        "hours_per_day:int = 24\n",
        "minutes_per_hour:int = 60\n",
        "seconds_per_minute:int = 60\n",
        "\n",
        "def seconds():\n",
        "  print(f' There are {days_in_year *hours_per_day * minutes_per_hour * seconds_per_minute} seconds in a year!')\n",
        "if __name__ == \"__main__\":\n",
        "  seconds()\n",
        "\n",
        "seconds_in_year:int = days_in_year * hours_per_day * minutes_per_hour * seconds_per_minute"
      ],
      "metadata": {
        "colab": {
          "base_uri": "https://localhost:8080/"
        },
        "id": "mJW7TZ9yAR5w",
        "outputId": "7f5de317-3c0e-4f90-c8f3-cf6d4bc1734b"
      },
      "execution_count": 4,
      "outputs": [
        {
          "output_type": "stream",
          "name": "stdout",
          "text": [
            "06_seconds_in_year\n",
            " There are 31536000 seconds in a year!\n"
          ]
        }
      ]
    },
    {
      "cell_type": "code",
      "source": [
        "\n",
        "print(\"07_tiny_mad_lib\")\n",
        "\n",
        "def mad_lib():\n",
        "  noun:str = input(\"Enter a noun: \")\n",
        "  verb:str = input(\"Enter a verb: \")\n",
        "  adjective:str = input(\"Enter an adjective: \")\n",
        "  adverb:str = input(\"Enter an adverb: \")\n",
        "  print(f'Do you {verb} your {adjective} {noun} {adverb}? That\\'s hilarious!')\n",
        "if __name__ == \"__main__\":\n",
        "  mad_lib()\n",
        "\n"
      ],
      "metadata": {
        "colab": {
          "base_uri": "https://localhost:8080/"
        },
        "id": "7qcdt_nSBxBn",
        "outputId": "0fdf035b-7c12-40cc-fa7d-6920e7c7c6d0"
      },
      "execution_count": 6,
      "outputs": [
        {
          "output_type": "stream",
          "name": "stdout",
          "text": [
            "07_tiny_mad_lib\n",
            "Enter a noun: cat\n",
            "Enter a verb: sleep\n",
            "Enter an adjective: sweet\n",
            "Enter an adverb: with\n",
            "Do you sleep your sweet cat with? That's hilarious!\n"
          ]
        }
      ]
    }
  ]
}